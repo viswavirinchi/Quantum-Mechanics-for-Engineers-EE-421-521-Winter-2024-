{
 "cells": [
  {
   "cell_type": "markdown",
   "metadata": {},
   "source": [
    "# Cats and Qubits\n",
    "\n",
    "Quantum Mechanics has fundamentally changed the way we study natural phenomena on microscopic scales. However, we've only just started to realize how quantum mechanics can also revolutionize information processing and computer science. The new and promising field of quantum computing makes use of the powerful, albeit sometimes unintuitive, quantum phenomena.\n",
    "\n",
    "Classical information processing begins with a bit, and analogously, quantum computing begins with a qubit. Information is measured in bits, where each bit will only ever be in one of two possible states (commonly referred to as \"0\" and \"1\"). A qubit is a two state quantum-system, so it's quite similar in that they only ever hold one bit of information, but the superposition principle in quantum mechanics allows a qubit to occupy any one of the continuum of states in Hilbert space - sounds like a contradiction, huh?\n",
    "\n",
    "Remember that even though a quantum system can occupy any state in Hilbert space, the only way we can get information from a qubit is by measuring it, at which point the state will collapse to one of the two possible basis states. For simplicity, let's choose a measurement operator which commutes with the Hamiltonian of our system, so we don't have to worry about the time dependence of our system. Now we can define the two eigenstates of our measurement operator to be $|0\\rangle$ and $|1\\rangle$ which forms our \"computational basis.\" (Look up what measurement in quantum mechanics means.)\n",
    "\n",
    "So in general, the state of our qubit $|\\psi \\rangle$ can be written as:\n",
    "\n",
    "$$ |\\psi \\rangle = \\alpha |0\\rangle + \\beta |1\\rangle $$\n",
    "\n",
    "for any $\\alpha$ and $\\beta$ such that $|\\alpha|^2 + |\\beta|^2 = 1$."
   ]
  },
  {
   "cell_type": "markdown",
   "metadata": {},
   "source": [
    "## Quantum Circuits\n",
    "\n",
    "Just as classical bits are processed in circuits with logic gates, qubits are processed in quantum circuits using quantum logic gates.\n",
    "\n",
    "A very convenient framework for building, and simulating quantum circuits using python is `qiskit`, which we'll use now."
   ]
  },
  {
   "cell_type": "code",
   "execution_count": null,
   "metadata": {
    "scrolled": true
   },
   "outputs": [],
   "source": [
    "import numpy as np\n",
    "%matplotlib widget\n",
    "import matplotlib.pyplot as plt\n",
    "from qiskit import QuantumCircuit\n",
    "from qiskit.primitives import StatevectorSampler\n",
    "from qiskit_aer import AerSimulator # for simulating circuits\n",
    "from qiskit.visualization import plot_histogram\n",
    "from qiskit.transpiler.preset_passmanagers import generate_preset_pass_manager"
   ]
  },
  {
   "cell_type": "markdown",
   "metadata": {},
   "source": [
    "In Qiskit, we can represent all of our operations in a `QuantumCircuit`. This object initializes all qubits in the $|0\\rangle$ state and applies operations from left to right."
   ]
  },
  {
   "cell_type": "code",
   "execution_count": null,
   "metadata": {},
   "outputs": [],
   "source": [
    "qc = QuantumCircuit(1)"
   ]
  },
  {
   "cell_type": "markdown",
   "metadata": {},
   "source": [
    "Your circuits can be visualized using the `draw` function.\n",
    "\n",
    "Note - \"mpl\" formats the circuit visualization to make it look pretty."
   ]
  },
  {
   "cell_type": "code",
   "execution_count": null,
   "metadata": {},
   "outputs": [],
   "source": [
    "qc.draw(\"mpl\")\n",
    "plt.draw()"
   ]
  },
  {
   "cell_type": "markdown",
   "metadata": {},
   "source": [
    "Our circuit isn't very exciting right now - let's add a Hadamard gate! Remember, a Hadamard gate puts our qubit in superposition.\n",
    "\n",
    "For a little nuance, it transforms the $|0\\rangle$ state into the $|+\\rangle$ state and transforms the $|1\\rangle$ state into the $|-\\rangle$ state, where: $$|+\\rangle = \\frac{1}{\\sqrt{2}}(|0\\rangle + |1\\rangle)$$ $$|-\\rangle = \\frac{1}{\\sqrt{2}}(|0\\rangle - |1\\rangle).$$ The phase difference between the two states won't matter for measurement (we'll still have an equal chance of measuring the zero and one state), but it will be useful in future quantum algorithms. \n",
    "\n",
    "For the $|+\\rangle$ and $|-\\rangle$ states, see Section 7.2. For the Hadamard gate, see Section 8.3."
   ]
  },
  {
   "cell_type": "code",
   "execution_count": null,
   "metadata": {},
   "outputs": [],
   "source": [
    "qc.h(0)\n",
    "qc.measure_all()\n",
    "qc.draw(\"mpl\")\n",
    "plt.draw()"
   ]
  },
  {
   "cell_type": "markdown",
   "metadata": {},
   "source": [
    "For a quick explanation of the circuit above:\n",
    "- The red box with an H represents our Hadamard gate.\n",
    "- The vertical dashed-line represents a barrier. This isn't a gate - it just helps makes the circuit more readable.\n",
    "- The grey square with the dial is the measurement gate. It ends the circuit and measures that specific qubit."
   ]
  },
  {
   "cell_type": "markdown",
   "metadata": {},
   "source": [
    "Now we can simulate our circuit to do some basic quantum computing.\n",
    "\n",
    "First, you have to choose what kind of backend to use. We'll using two different backends: the `StatevectorSampler`, which turns the circuit into a pure statevector before computation, and `Fake Sherbrooke`, that simulates a quantum computer running your circuit. The `StatevectorSampler` will run your quantum circuit without any noise, while Fake `Fake Sherbrooke`, like real quantum computers, will include noise in its computation. There are also some backends that will run your circuit on a real quantum computer (for more information check out IBMQ Experience).\n",
    "\n",
    "With IBM's new Qiskit 1.0 update, there are a couple of steps we need to take to run our newly created quantum circuit.\n",
    "\n",
    "First, let's create a backend. This is the quantum computer (or simulated quantum computer) that we'll be using to run our quantum circuit. To keep things clear, we're going to call the backend a sampler this time around, to differentiate the `StatevectorSampler` and the `Fake Sherbrooke`. \n",
    "\n",
    "Next, we can \"run\" our quantum circuit. Since quantum computations are inherently probabilistic, we don't just run our quantum circuit once - we run it many times to get a good idea on the probabilities of each state. The number of times (or the number of shots) we run a quantum circuit with is usually 1024, but we can change it manually. We can check this by seeing how many bitstrings we have (a bitstring is the result of running our circuit from an initial state). This is the number of times we ran the quantum circuit or, in other words, the number of outputs we got.\n",
    "\n",
    "Finally, we'll see the number of times we got certain states using get_counts(). This will return a dictionary, with each state as the key and the number of times that state was measured as the value."
   ]
  },
  {
   "cell_type": "code",
   "execution_count": null,
   "metadata": {},
   "outputs": [],
   "source": [
    "sampler = StatevectorSampler()\n",
    "result = sampler.run([qc]).result()\n",
    "# Access result data for PUB 0\n",
    "data = result[0].data"
   ]
  },
  {
   "cell_type": "code",
   "execution_count": null,
   "metadata": {},
   "outputs": [],
   "source": [
    "bitstrings = data.meas.get_bitstrings()\n",
    "print(f\"The number of bitstrings is: {len(bitstrings)}\")"
   ]
  },
  {
   "cell_type": "code",
   "execution_count": null,
   "metadata": {},
   "outputs": [],
   "source": [
    "# Get counts for the classical register \"meas\"\n",
    "counts = data.meas.get_counts()\n",
    "print(f\"The counts are: {counts}\")\n",
    "plot_histogram(counts)\n",
    "plt.draw()"
   ]
  },
  {
   "cell_type": "code",
   "execution_count": null,
   "metadata": {},
   "outputs": [],
   "source": [
    "probs = {}\n",
    "total_counts = len(bitstrings)\n",
    "total_prob = 0\n",
    "\n",
    "for state in counts.keys():\n",
    "    probs[state] = counts[state]/total_counts\n",
    "    total_prob += counts[state]/total_counts\n",
    "\n",
    "print(f\"The probabilities of each state: {probs}\")"
   ]
  },
  {
   "cell_type": "markdown",
   "metadata": {},
   "source": [
    "In theory, when we make a measurement on the $$|+\\rangle = \\frac{1}{\\sqrt{2}}(|0\\rangle + |1\\rangle)$$ we expect to see the zero and one state with precisly 50% probability each. However, as you can see above, this is not the case with real measurements (unless you are really lucky!)."
   ]
  },
  {
   "cell_type": "markdown",
   "metadata": {},
   "source": [
    "## Cat States\n",
    "\n",
    "Named after Schrödinger's (possibly) misfortunate cat, a cat state is an equal superposition with only two possible, very opposite outcomes.\n",
    "\n",
    "$$ |\\mathrm{🐱} \\rangle = \\frac{1}{\\sqrt{2}} (|000\\dots00 \\rangle + |111\\dots11 \\rangle) $$\n",
    "\n",
    "Are the individual qubits in a cat state entangled? How do you know?"
   ]
  },
  {
   "cell_type": "markdown",
   "metadata": {},
   "source": [
    "[your answer here]"
   ]
  },
  {
   "cell_type": "markdown",
   "metadata": {},
   "source": [
    "Starting from the default state of all zeros, let's build to circuit to create a cat state for a two qubit system. We start off by initializing our circuit."
   ]
  },
  {
   "cell_type": "code",
   "execution_count": null,
   "metadata": {},
   "outputs": [],
   "source": [
    "qc = QuantumCircuit(2)\n",
    "qc.draw(\"mpl\")\n",
    "plt.draw()"
   ]
  },
  {
   "cell_type": "markdown",
   "metadata": {},
   "source": [
    "We'll need another Hadamard - in fact, essentially all quantum circuits begin with at least one Hadamard, any ideas why?"
   ]
  },
  {
   "cell_type": "markdown",
   "metadata": {},
   "source": [
    "[your answer here]"
   ]
  },
  {
   "cell_type": "code",
   "execution_count": null,
   "metadata": {},
   "outputs": [],
   "source": [
    "qc.h(0)\n",
    "qc.draw(\"mpl\")\n",
    "plt.draw()"
   ]
  },
  {
   "cell_type": "markdown",
   "metadata": {},
   "source": [
    "Next, we'll use a controlled NOT gate (aka CNOT or CX), which is a very important binary gate. The CNOT gate takes a control qubit and a target qubit as input, and inverts (applies an X gate) the target qubit if and only if the control qubit is 1.\n",
    "\n",
    "Classically, such a gate is nothing special. In the quantum realm, however, thanks to superposition, the CNOT gate allows us entangle qubits."
   ]
  },
  {
   "cell_type": "code",
   "execution_count": null,
   "metadata": {},
   "outputs": [],
   "source": [
    "qc.cx(0,1)\n",
    "qc.measure_all()\n",
    "qc.draw(\"mpl\")\n",
    "plt.draw()"
   ]
  },
  {
   "cell_type": "markdown",
   "metadata": {},
   "source": [
    "The big circle with the plus sign takes the target input, while the blue dot on top takes the control input."
   ]
  },
  {
   "cell_type": "markdown",
   "metadata": {},
   "source": [
    "Now, let's simulate our circuit to compute the resulting state. This time, we're going to be using a simulation of an actual quantum computer. This backend, FakeSherbrooke, will simulate the qubits directly (including noise), so there are a couple more steps we need to take before we can run our circuit.\n",
    "\n",
    "We need to transpile our general quantum circuit above into a circuit that fits on our target hardware. In theory, quantum computers can implement any gate you want and can entangle any pair of qubits. \n",
    "\n",
    "In practice, this isn't true. Quantum computers, due to size constraints, only physically connect certain qubits. If two qubits aren't directly connected, we can't entangle them directly. Real quantum hardware also uses a very specific gate set - a basis gate set. This basis gate set consists of a few, specifically tuned gates for that quantum computer. Before we can run our quantum circuit, which can have any type of gate, we need to transform those gates into the quantum hardware's basis gate set so that our backend can actually run our circuit. \n",
    "\n",
    "While you can look at the set of quantum gates that FakeSherbrooke uses, we will not go into detail about that here. The main thing to remember is that FakeSherbrooke models our circuit above (with the Hadamard and CNOT gates) including noise."
   ]
  },
  {
   "cell_type": "code",
   "execution_count": null,
   "metadata": {},
   "outputs": [],
   "source": [
    "from qiskit_ibm_runtime.fake_provider import FakeSherbrooke\n",
    "from qiskit import transpile\n",
    "\n",
    "backend = FakeSherbrooke()\n",
    "# Transpile circuit\n",
    "transpiled_circuit = transpile(qc, backend)\n",
    "# Run using sampler\n",
    "job = backend.run(transpiled_circuit)\n",
    "counts = job.result().get_counts()\n",
    "print(f\"The counts are: {counts}\")\n",
    "plot_histogram(counts)\n",
    "plt.draw()"
   ]
  },
  {
   "cell_type": "markdown",
   "metadata": {},
   "source": [
    "Remember the dimensions are ordered: $00$, $01$, $10$, $11$, so the state we are left with after applying our circuit can only have two outcomes: $00$ or $11$ - or in cat speak - very dead or very alive.\n",
    "\n",
    "Notice that there are a few counts where the measurement gives us states 01 and 10. This is due to noise - current quantum computers aren't perfect. The gates they apply might not always perfectly rotate the qubit to an equal superposition or surrounding heat might randomly flip bits. Even though we're not running our circuit on a real computer, IBM's fake backends imitate this noise, leading us to measure states that shouldn't be possible to measure.\n",
    "\n",
    "This is why measuring over many shots is important. With only one measurement, we don't get a clear enough picture of the state of the quantum circuit to make any conclusions or to get any meaningful results."
   ]
  },
  {
   "cell_type": "markdown",
   "metadata": {},
   "source": [
    "### Problem 1: Three Qubit Cat\n",
    "\n",
    "Build a quantum circuit that produces a 3 qubit cat state and confirm that it is a cat state by simulating your circuit using the `statevector_simulator` and printing the resulting statevector.\n",
    "\n",
    "In other words, starting from the (default) state $| \\psi \\rangle = |000\\rangle$, build a circuit $\\hat{\\mathbf{U}}$ which has the following effect:\n",
    "\n",
    "$$ \\hat{\\mathbf{U}} |\\psi\\rangle = \\frac{1}{\\sqrt{2}}(|000\\rangle + |111\\rangle) $$\n",
    "\n",
    "Hint: Start with the circuit above to produce a two qubit cat state."
   ]
  },
  {
   "cell_type": "markdown",
   "metadata": {},
   "source": [
    "[Your Answer Here]"
   ]
  },
  {
   "cell_type": "markdown",
   "metadata": {},
   "source": [
    "### Problem 2: Super Superpositions\n",
    "\n",
    "The real power of quantum computing comes from the parallelism. Thanks to quantum superposition states, applying a single quantum gate to $n$ qubits can affect all $2^n$ possible outcomes those qubits can have in parallel. As a result, most quantum algorithms try to take full advantage of this parallelism by starting with a state that's an equal superposition of all possible outcomes.\n",
    "\n",
    "Build a 3 qubit quantum circuit that transforms the initial state $|000\\rangle$ to an equal superposition of all 8 possible outcomes. Test your circuit using `Fake Sherbrooke` and plot the outcomes of 1024 shots in a histogram.\n",
    "\n",
    "Hint: Also, the simplest solution does not require any gates that weren't used above."
   ]
  },
  {
   "cell_type": "markdown",
   "metadata": {},
   "source": [
    "[Your Answer Here]"
   ]
  },
  {
   "cell_type": "markdown",
   "metadata": {},
   "source": [
    "### Problem 3: Bell States Galore\n",
    "\n",
    "For now, we've only created one out of the 4 bell possible bell states. Create the other three Bell States.\n",
    "\n",
    "$$ |B2\\rangle = \\frac{1}{\\sqrt{2}}(|01\\rangle + |10\\rangle) $$\n",
    "$$ |B3\\rangle = \\frac{1}{\\sqrt{2}}(|00\\rangle - |11\\rangle) $$\n",
    "$$ |B4\\rangle = \\frac{1}{\\sqrt{2}}(|01\\rangle - |10\\rangle) $$\n",
    "\n",
    "Draw your circuits. Test your circuits using `Fake Sherbrooke` and plot the outcomes of 1024 shots in a histogram."
   ]
  },
  {
   "cell_type": "code",
   "execution_count": null,
   "metadata": {},
   "outputs": [],
   "source": [
    "# Your code below for |B2>\n",
    "\n",
    "\n",
    "\n"
   ]
  },
  {
   "cell_type": "code",
   "execution_count": null,
   "metadata": {},
   "outputs": [],
   "source": [
    "# Your code below for |B3>\n",
    "\n",
    "\n",
    "\n"
   ]
  },
  {
   "cell_type": "code",
   "execution_count": null,
   "metadata": {},
   "outputs": [],
   "source": [
    "# Your code below for |B4>\n",
    "\n",
    "\n"
   ]
  }
 ],
 "metadata": {
  "kernelspec": {
   "display_name": "Python 3 (ipykernel)",
   "language": "python",
   "name": "python3"
  },
  "language_info": {
   "codemirror_mode": {
    "name": "ipython",
    "version": 3
   },
   "file_extension": ".py",
   "mimetype": "text/x-python",
   "name": "python",
   "nbconvert_exporter": "python",
   "pygments_lexer": "ipython3",
   "version": "3.13.1"
  }
 },
 "nbformat": 4,
 "nbformat_minor": 4
}
